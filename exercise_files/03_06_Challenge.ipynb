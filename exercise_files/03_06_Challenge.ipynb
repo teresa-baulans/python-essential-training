{
 "cells": [
  {
   "cell_type": "markdown",
   "id": "5cd90a72",
   "metadata": {},
   "source": [
    "## Converting Hexadecimal to Decimal\n",
    "\n",
    "Hexadecimal or \"base 16\" uses all of the numbers 0 - 9, plus a few others to signify higher numbers:\n",
    "\n",
    "A = 10\n",
    "\n",
    "B = 11\n",
    "\n",
    "C = 12\n",
    "\n",
    "D = 13\n",
    "\n",
    "E = 14\n",
    "\n",
    "F = 15\n",
    "\n",
    "Therefore, the number 'D' in hexadecimal would be 13 in decimal.\n",
    "\n",
    "The number '1A' in hexadecimal would be 26 in decimal. Just like we have the \"tens\" place in base 10, hexadecimal has the \"sixteens\" place. So 1A would be 16 + 10 or 26. \n",
    "\n",
    "And just like decimal has the \"hundreds\" place (because 10 * 10 is 100), hexadecimal has the \"256's\" place (because 16 * 16 is 256) So 'ABC' in hexadecimal is (256 * 10) + (16 * 11) + (1 * 12) or 2,748\n"
   ]
  },
  {
   "cell_type": "code",
   "execution_count": 14,
   "id": "8615b165-ddcd-4fd3-9e11-584ff1412c44",
   "metadata": {},
   "outputs": [],
   "source": [
    "string = 'ABCD'"
   ]
  },
  {
   "cell_type": "code",
   "execution_count": 19,
   "id": "806c18b9-e75b-4484-af86-20071debda1f",
   "metadata": {},
   "outputs": [
    {
     "data": {
      "text/plain": [
       "['A', 'B', 'C', 'D']"
      ]
     },
     "execution_count": 19,
     "metadata": {},
     "output_type": "execute_result"
    }
   ],
   "source": [
    "[string[i] for i in range(len(string))]"
   ]
  },
  {
   "cell_type": "code",
   "execution_count": 38,
   "id": "cfc54187",
   "metadata": {},
   "outputs": [],
   "source": [
    "hexNumbers = {\n",
    "    '0': 0, '1': 1, '2': 2, '3': 3, '4': 4, '5': 5, '6': 6, '7': 7, '8': 8, '9': 9,\n",
    "    'A': 10, 'B': 11, 'C': 12, 'D': 13, 'E': 14, 'F': 15\n",
    "}\n",
    "\n",
    "# Converts a string hexadecimal number into an integer decimal\n",
    "# If hexNum is not a valid hexadecimal number, returns None\n",
    "def hexToDec(hexNum):\n",
    "    if all(element in hexNumbers for element in hexNum):\n",
    "        decNum = 0\n",
    "        for i in range(len(hexNum)):\n",
    "            decNum += 16 ** i * hexNumbers[hexNum[len(hexNum)-i-1]]\n",
    "        return decNum\n",
    "    else:\n",
    "        print(None)"
   ]
  },
  {
   "cell_type": "code",
   "execution_count": 39,
   "id": "6871966d",
   "metadata": {},
   "outputs": [
    {
     "data": {
      "text/plain": [
       "10"
      ]
     },
     "execution_count": 39,
     "metadata": {},
     "output_type": "execute_result"
    }
   ],
   "source": [
    "# 10\n",
    "hexToDec('A')"
   ]
  },
  {
   "cell_type": "code",
   "execution_count": 40,
   "id": "fbac89a5",
   "metadata": {},
   "outputs": [
    {
     "data": {
      "text/plain": [
       "0"
      ]
     },
     "execution_count": 40,
     "metadata": {},
     "output_type": "execute_result"
    }
   ],
   "source": [
    "# 0\n",
    "hexToDec('0')"
   ]
  },
  {
   "cell_type": "code",
   "execution_count": 41,
   "id": "e8471b43",
   "metadata": {},
   "outputs": [
    {
     "data": {
      "text/plain": [
       "27"
      ]
     },
     "execution_count": 41,
     "metadata": {},
     "output_type": "execute_result"
    }
   ],
   "source": [
    "# 27\n",
    "hexToDec('1B')"
   ]
  },
  {
   "cell_type": "code",
   "execution_count": 42,
   "id": "828e6dce",
   "metadata": {},
   "outputs": [
    {
     "data": {
      "text/plain": [
       "960"
      ]
     },
     "execution_count": 42,
     "metadata": {},
     "output_type": "execute_result"
    }
   ],
   "source": [
    "# 960\n",
    "hexToDec('3C0')"
   ]
  },
  {
   "cell_type": "code",
   "execution_count": 43,
   "id": "86051c1a",
   "metadata": {},
   "outputs": [
    {
     "name": "stdout",
     "output_type": "stream",
     "text": [
      "None\n"
     ]
    }
   ],
   "source": [
    "# None\n",
    "hexToDec('A6G')"
   ]
  },
  {
   "cell_type": "code",
   "execution_count": 44,
   "id": "598538ff",
   "metadata": {},
   "outputs": [
    {
     "name": "stdout",
     "output_type": "stream",
     "text": [
      "None\n"
     ]
    }
   ],
   "source": [
    "# None\n",
    "hexToDec('ZZTOP')"
   ]
  },
  {
   "cell_type": "code",
   "execution_count": 45,
   "id": "0051662e",
   "metadata": {},
   "outputs": [
    {
     "data": {
      "text/plain": [
       "19090108"
      ]
     },
     "execution_count": 45,
     "metadata": {},
     "output_type": "execute_result"
    }
   ],
   "source": [
    "hexToDec('1234ABC')"
   ]
  }
 ],
 "metadata": {
  "kernelspec": {
   "display_name": "Python 3 (ipykernel)",
   "language": "python",
   "name": "python3"
  },
  "language_info": {
   "codemirror_mode": {
    "name": "ipython",
    "version": 3
   },
   "file_extension": ".py",
   "mimetype": "text/x-python",
   "name": "python",
   "nbconvert_exporter": "python",
   "pygments_lexer": "ipython3",
   "version": "3.9.18"
  },
  "vscode": {
   "interpreter": {
    "hash": "949777d72b0d2535278d3dc13498b2535136f6dfe0678499012e853ee9abcab1"
   }
  }
 },
 "nbformat": 4,
 "nbformat_minor": 5
}

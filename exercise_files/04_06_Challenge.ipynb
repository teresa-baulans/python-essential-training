{
 "cells": [
  {
   "cell_type": "markdown",
   "id": "6a6c3649",
   "metadata": {},
   "source": [
    "## ASCII Art Encoding\n",
    "\n",
    "Write a function \"encodeString\" that will encode a string like 'AAAAABBBBAAA' as a list of tuples: [('A', 5), ('B', 4), ('A', 3)] meaning that the string has \"5 A's, followed by 4 B's, followed by 3 A's\"\n",
    "\n",
    "Then use that function to compress a string containing \"ASCII Art\" (https://en.wikipedia.org/wiki/ASCII_art)\n",
    "\n",
    "Write a corresponding function \"decodeString\" that will take in a list of tuples and print the original string.\n"
   ]
  },
  {
   "cell_type": "code",
   "execution_count": 17,
   "id": "b6889ec7",
   "metadata": {},
   "outputs": [
    {
     "name": "stdout",
     "output_type": "stream",
     "text": [
      "[' ', '!', '\"', '#', '$', '%', '&', \"'\", '(', ')', '*', '+', ',', '-', '.', '/', '0', '1', '2', '3', '4', '5', '6', '7', '8', '9', ':', ';', '<', '=', '>', '?', '@', 'A', 'B', 'C', 'D', 'E', 'F', 'G', 'H', 'I', 'J', 'K', 'L', 'M', 'N', 'O', 'P', 'Q', 'R', 'S', 'T', 'U', 'V', 'W', 'X', 'Y', 'Z', '[', '\\\\', ']', '^', '_', '`', 'a', 'b', 'c', 'd', 'e', 'f', 'g', 'h', 'i', 'j', 'k', 'l', 'm', 'n', 'o', 'p', 'q', 'r', 's', 't', 'u', 'v', 'w', 'x', 'y', 'z', '{', '|', '}', '~']\n"
     ]
    }
   ],
   "source": [
    "ascii_characters = [chr(i) for i in range(32,127)]\n",
    "print(ascii_characters)"
   ]
  },
  {
   "cell_type": "code",
   "execution_count": 63,
   "id": "7777d38e",
   "metadata": {},
   "outputs": [],
   "source": [
    "def encodeString(original_string):\n",
    "    list_of_tuples = []\n",
    "    number = 1\n",
    "    for i in range(len(original_string)-1):\n",
    "        if original_string[i+1] == original_string[i]:\n",
    "            number += 1\n",
    "            if i == len(original_string)-2: # in the case of the last letter\n",
    "                list_of_tuples.append((original_string[i],number))\n",
    "        else:\n",
    "            list_of_tuples.append((original_string[i],number))\n",
    "            number = 1\n",
    "            if i == len(original_string)-2: # in the case of the last letter\n",
    "                list_of_tuples.append((original_string[i+1],number))\n",
    "    return list_of_tuples\n",
    "        \n",
    "        \n",
    "def decodeString(encodedList):\n",
    "    original_string = ''\n",
    "    for character, number in encodedList:\n",
    "        for i in range(number):\n",
    "            original_string += character\n",
    "    return original_string"
   ]
  },
  {
   "cell_type": "code",
   "execution_count": 66,
   "id": "14bad663",
   "metadata": {},
   "outputs": [
    {
     "data": {
      "text/plain": [
       "[('A', 3), ('B', 1), ('C', 3)]"
      ]
     },
     "execution_count": 66,
     "metadata": {},
     "output_type": "execute_result"
    }
   ],
   "source": [
    "encodeString('AAABCCC')"
   ]
  },
  {
   "cell_type": "code",
   "execution_count": 67,
   "id": "9aef9852",
   "metadata": {},
   "outputs": [
    {
     "data": {
      "text/plain": [
       "'AAABCCC'"
      ]
     },
     "execution_count": 67,
     "metadata": {},
     "output_type": "execute_result"
    }
   ],
   "source": [
    "decodeString([('A', 3), ('B', 1), ('C', 3)])"
   ]
  },
  {
   "cell_type": "code",
   "execution_count": 72,
   "id": "3eee6256",
   "metadata": {},
   "outputs": [
    {
     "ename": "IndentationError",
     "evalue": "unindent does not match any outer indentation level (<tokenize>, line 6)",
     "output_type": "error",
     "traceback": [
      "\u001b[0;36m  File \u001b[0;32m\"<tokenize>\"\u001b[0;36m, line \u001b[0;32m6\u001b[0m\n\u001b[0;31m    %%%%%%%%%%%%%%%%%%%%%%%%%%%%%%%%%\u001b[0m\n\u001b[0m    ^\u001b[0m\n\u001b[0;31mIndentationError\u001b[0m\u001b[0;31m:\u001b[0m unindent does not match any outer indentation level\n"
     ]
    }
   ],
   "source": [
    "art = '''\n",
    "\n",
    "                                                                                \n",
    "                                                                                \n",
    "                               %%%%%%%%%%%%%%%%%%%                              \n",
    "                        %%%%%%%%%%%%%%%%%%%%%%%%%%%%%%%%%                       \n",
    "                    %%%%%%%%                         %%%%%%%%                   \n",
    "                %%%%%%%                                   %%%%%%                \n",
    "              %%%%%%                                         %%%%%%             \n",
    "           %%%%%%                                               %%%%%           \n",
    "          %%%%%                                                   %%%%%         \n",
    "        %%%%%                                                       %%%%%       \n",
    "       %%%%                 %%%%%              %%%%%                  %%%%      \n",
    "      %%%%                 %%%%%%%            %%%%%%%                  %%%%     \n",
    "     %%%%                  %%%%%%%            %%%%%%%                   %%%%    \n",
    "    %%%%                   %%%%%%%            %%%%%%%                    %%%%   \n",
    "    %%%%                    %%%%%              %%%%%                     %%%%   \n",
    "   %%%%                                                                   %%%%  \n",
    "   %%%%                                                                   %%%%  \n",
    "   %%%%                                                                   %%%%  \n",
    "   %%%%                                                      %%%%        %%%%   \n",
    "    %%%%       %%%%%%                                        %%%%%       %%%%   \n",
    "    %%%%         %%%%                                       %%%%        %%%%    \n",
    "     %%%%         %%%%                                     %%%%         %%%%    \n",
    "      %%%%         %%%%%                                  %%%%         %%%%     \n",
    "       %%%%%         %%%%%                             %%%%%         %%%%%      \n",
    "        %%%%%          %%%%%%                        %%%%%          %%%%        \n",
    "          %%%%%           %%%%%%%               %%%%%%%           %%%%%         \n",
    "            %%%%%             %%%%%%%%%%%%%%%%%%%%%             %%%%%           \n",
    "              %%%%%%%                                        %%%%%              \n",
    "                 %%%%%%%                                 %%%%%%%                \n",
    "                     %%%%%%%%%                     %%%%%%%%%                    \n",
    "                          %%%%%%%%%%%%%%%%%%%%%%%%%%%%%                         \n",
    "                                   %%%%%%%%%%%%                                 \n",
    "                                                                                \n",
    "                                                                                 \n",
    "\n",
    "'''"
   ]
  },
  {
   "cell_type": "code",
   "execution_count": 69,
   "id": "dec27033",
   "metadata": {},
   "outputs": [],
   "source": [
    "encodedString = encodeString(art)"
   ]
  },
  {
   "cell_type": "code",
   "execution_count": 70,
   "id": "942d4ff8",
   "metadata": {},
   "outputs": [
    {
     "data": {
      "text/plain": [
       "'\\n\\n                                                                                \\n                                                                                \\n                               %%%%%%%%%%%%%%%%%%%                              \\n                        %%%%%%%%%%%%%%%%%%%%%%%%%%%%%%%%%                       \\n                    %%%%%%%%                         %%%%%%%%                   \\n                %%%%%%%                                   %%%%%%                \\n              %%%%%%                                         %%%%%%             \\n           %%%%%%                                               %%%%%           \\n          %%%%%                                                   %%%%%         \\n        %%%%%                                                       %%%%%       \\n       %%%%                 %%%%%              %%%%%                  %%%%      \\n      %%%%                 %%%%%%%            %%%%%%%                  %%%%     \\n     %%%%                  %%%%%%%            %%%%%%%                   %%%%    \\n    %%%%                   %%%%%%%            %%%%%%%                    %%%%   \\n    %%%%                    %%%%%              %%%%%                     %%%%   \\n   %%%%                                                                   %%%%  \\n   %%%%                                                                   %%%%  \\n   %%%%                                                                   %%%%  \\n   %%%%                                                      %%%%        %%%%   \\n    %%%%       %%%%%%                                        %%%%%       %%%%   \\n    %%%%         %%%%                                       %%%%        %%%%    \\n     %%%%         %%%%                                     %%%%         %%%%    \\n      %%%%         %%%%%                                  %%%%         %%%%     \\n       %%%%%         %%%%%                             %%%%%         %%%%%      \\n        %%%%%          %%%%%%                        %%%%%          %%%%        \\n          %%%%%           %%%%%%%               %%%%%%%           %%%%%         \\n            %%%%%             %%%%%%%%%%%%%%%%%%%%%             %%%%%           \\n              %%%%%%%                                        %%%%%              \\n                 %%%%%%%                                 %%%%%%%                \\n                     %%%%%%%%%                     %%%%%%%%%                    \\n                          %%%%%%%%%%%%%%%%%%%%%%%%%%%%%                         \\n                                   %%%%%%%%%%%%                                 \\n                                                                                \\n                                                                                 \\n\\n'"
      ]
     },
     "execution_count": 70,
     "metadata": {},
     "output_type": "execute_result"
    }
   ],
   "source": [
    "decodeString(encodedString)"
   ]
  },
  {
   "cell_type": "code",
   "execution_count": null,
   "id": "e1485f53",
   "metadata": {},
   "outputs": [],
   "source": []
  }
 ],
 "metadata": {
  "kernelspec": {
   "display_name": "Python 3 (ipykernel)",
   "language": "python",
   "name": "python3"
  },
  "language_info": {
   "codemirror_mode": {
    "name": "ipython",
    "version": 3
   },
   "file_extension": ".py",
   "mimetype": "text/x-python",
   "name": "python",
   "nbconvert_exporter": "python",
   "pygments_lexer": "ipython3",
   "version": "3.9.13"
  },
  "vscode": {
   "interpreter": {
    "hash": "949777d72b0d2535278d3dc13498b2535136f6dfe0678499012e853ee9abcab1"
   }
  }
 },
 "nbformat": 4,
 "nbformat_minor": 5
}

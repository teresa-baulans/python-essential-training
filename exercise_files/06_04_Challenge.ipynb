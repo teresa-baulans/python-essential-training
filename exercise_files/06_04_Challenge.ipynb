{
 "cells": [
  {
   "cell_type": "markdown",
   "id": "6aa3058e",
   "metadata": {},
   "source": [
    "## Can You Hear Me Now?\n",
    "\n",
    "Create a function \"getWithRetry\" that calls a function until it receives response that is not None, and then returns that response. If it continues to get no response, it should give up after a certain number of tries (to be decided by you) \n",
    "\n",
    "After filling out the \"getWithRetry\" function, run all of the cells in this notebook in order to test the following scenarios:\n",
    "- All services are up\n",
    "- All services are down\n",
    "- All services are down and making a request takes 0.1 seconds to execute\n",
    "\n",
    "What is the ideal number of retries before giving up? How do you know whether the service is down or you're just unlucky?"
   ]
  },
  {
   "cell_type": "code",
   "execution_count": 644,
   "id": "52439a5a",
   "metadata": {},
   "outputs": [],
   "source": [
    "import random\n",
    "import time"
   ]
  },
  {
   "cell_type": "code",
   "execution_count": 665,
   "id": "01d1f0d6",
   "metadata": {},
   "outputs": [],
   "source": [
    "servicesAreUp = True\n",
    "\n",
    "def getData50():\n",
    "    if servicesAreUp and random.random() < 0.5:\n",
    "        return 'You got the data! That only happens 50% of the time!'\n",
    "\n",
    "def getData25():\n",
    "    if servicesAreUp and random.random() < 0.25:\n",
    "        return 'You got the data! That only happens 25% of the time!'    \n",
    "\n",
    "def getData10():\n",
    "    if servicesAreUp and random.random() < 0.1:\n",
    "        return 'You got the data! That only happens 10% of the time!'"
   ]
  },
  {
   "cell_type": "code",
   "execution_count": 630,
   "id": "2a98b26b",
   "metadata": {},
   "outputs": [],
   "source": [
    "def getWithRetry(data_func):\n",
    "    '''\n",
    "    Simple version where answer is returned as soon as the algorithm finds data.\n",
    "    '''\n",
    "    answer = data_func()\n",
    "    while not answer:\n",
    "        answer = data_func()\n",
    "    return answer"
   ]
  },
  {
   "cell_type": "code",
   "execution_count": 646,
   "id": "428433c4",
   "metadata": {},
   "outputs": [],
   "source": [
    "def getWithRetry(data_func):\n",
    "    '''\n",
    "    Stops searching after \"Delay\" time. Delay depends on which of the three functions, \n",
    "    and is longer the smaller the probability to get data\n",
    "    In either case it informs of how long it took until either it stopped or found data.\n",
    "    '''\n",
    "    func_name = data_func.__name__\n",
    "    factor = int(func_name[7:]) # read 50, 25 or 10 from the function's name.\n",
    "    Delay = 10/factor # use factor to determine the delay time\n",
    "    start_time = time.time()\n",
    "    answer = False\n",
    "    while not answer:\n",
    "        answer = data_func()\n",
    "        if answer:\n",
    "            end_time = time.time()\n",
    "            return answer + f' You had to wait {round(end_time - start_time,3)} seconds.'\n",
    "            break\n",
    "        check_time = time.time()\n",
    "        if check_time - start_time > Delay:\n",
    "            return f'I had to wait {round(check_time - start_time,3)} so search stopped.'\n",
    "            break"
   ]
  },
  {
   "cell_type": "code",
   "execution_count": 688,
   "id": "fd803ca8",
   "metadata": {},
   "outputs": [
    {
     "data": {
      "text/plain": [
       "'You got the data! That only happens 25% of the time! You had to wait 0.414 seconds.'"
      ]
     },
     "execution_count": 688,
     "metadata": {},
     "output_type": "execute_result"
    }
   ],
   "source": [
    "# Should return 'You got the data! That only happens 25% of the time!'\n",
    "getWithRetry(getData25)"
   ]
  },
  {
   "cell_type": "code",
   "execution_count": 694,
   "id": "5732135e",
   "metadata": {},
   "outputs": [
    {
     "data": {
      "text/plain": [
       "'I had to wait 1.037 so search stopped.'"
      ]
     },
     "execution_count": 694,
     "metadata": {},
     "output_type": "execute_result"
    }
   ],
   "source": [
    "# Should return 'You got the data! That only happens 10% of the time!'\n",
    "getWithRetry(getData10)"
   ]
  },
  {
   "cell_type": "code",
   "execution_count": 666,
   "id": "c8ee2bd0",
   "metadata": {},
   "outputs": [],
   "source": [
    "servicesAreUp = False"
   ]
  },
  {
   "cell_type": "code",
   "execution_count": 677,
   "id": "961a60ea",
   "metadata": {},
   "outputs": [
    {
     "data": {
      "text/plain": [
       "'I had to wait 0.205 so search stopped.'"
      ]
     },
     "execution_count": 677,
     "metadata": {},
     "output_type": "execute_result"
    }
   ],
   "source": [
    "# Returns None\n",
    "getWithRetry(getData50)"
   ]
  },
  {
   "cell_type": "code",
   "execution_count": null,
   "id": "b009f04c",
   "metadata": {},
   "outputs": [],
   "source": [
    "# Returns None\n",
    "getWithRetry(getData25)"
   ]
  },
  {
   "cell_type": "code",
   "execution_count": null,
   "id": "a4b67294",
   "metadata": {},
   "outputs": [],
   "source": [
    "# Returns None\n",
    "getWithRetry(getData10)"
   ]
  },
  {
   "cell_type": "code",
   "execution_count": 683,
   "id": "2ac6e378",
   "metadata": {},
   "outputs": [],
   "source": [
    "servicesAreUp = True\n",
    "\n",
    "def getData50():\n",
    "    time.sleep(.1)\n",
    "    if servicesAreUp and random.random() < 0.5:\n",
    "        return 'You got the data! That only happens 50% of the time!'\n",
    "\n",
    "def getData25():\n",
    "    time.sleep(.1)\n",
    "    if servicesAreUp and random.random() < 0.25:\n",
    "        return 'You got the data! That only happens 25% of the time!'    \n",
    "\n",
    "def getData10():\n",
    "    time.sleep(.1)\n",
    "    if servicesAreUp and random.random() < 0.1:\n",
    "        return 'You got the data! That only happens 10% of the time!'"
   ]
  },
  {
   "cell_type": "code",
   "execution_count": null,
   "id": "3f96192e",
   "metadata": {},
   "outputs": [],
   "source": [
    "# Returns None\n",
    "getWithRetry(getData50)"
   ]
  },
  {
   "cell_type": "code",
   "execution_count": null,
   "id": "993f2d05",
   "metadata": {},
   "outputs": [],
   "source": [
    "getWithRetry(getData25)"
   ]
  },
  {
   "cell_type": "code",
   "execution_count": null,
   "id": "b5a44926",
   "metadata": {},
   "outputs": [],
   "source": [
    "getWithRetry(getData10)"
   ]
  },
  {
   "cell_type": "code",
   "execution_count": null,
   "id": "5137b2b5",
   "metadata": {},
   "outputs": [],
   "source": []
  }
 ],
 "metadata": {
  "kernelspec": {
   "display_name": "Python 3 (ipykernel)",
   "language": "python",
   "name": "python3"
  },
  "language_info": {
   "codemirror_mode": {
    "name": "ipython",
    "version": 3
   },
   "file_extension": ".py",
   "mimetype": "text/x-python",
   "name": "python",
   "nbconvert_exporter": "python",
   "pygments_lexer": "ipython3",
   "version": "3.9.13"
  },
  "vscode": {
   "interpreter": {
    "hash": "949777d72b0d2535278d3dc13498b2535136f6dfe0678499012e853ee9abcab1"
   }
  }
 },
 "nbformat": 4,
 "nbformat_minor": 5
}
